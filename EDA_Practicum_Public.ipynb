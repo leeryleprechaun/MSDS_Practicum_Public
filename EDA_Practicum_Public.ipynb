{
  "cells": [
    {
      "cell_type": "markdown",
      "metadata": {
        "id": "view-in-github",
        "colab_type": "text"
      },
      "source": [
        "<a href=\"https://colab.research.google.com/github/leeryleprechaun/MSDS_Practicum_Public/blob/main/EDA_Practicum_Public.ipynb\" target=\"_parent\"><img src=\"https://colab.research.google.com/assets/colab-badge.svg\" alt=\"Open In Colab\"/></a>"
      ]
    },
    {
      "cell_type": "markdown",
      "id": "c985724f",
      "metadata": {
        "id": "c985724f"
      },
      "source": [
        "# Initial EDA\n",
        "###### C6.5_C2 Account for your organization’s gross global Scope 3 emissions, disclosing and explaining any exclusions. - Evaluation status\n",
        "###### C6.5_C2_Account for your organization’s gross global Scope 3 emissions, disclosing and explaining any exclusions. - Metric tonnes CO2e\n",
        "###### C6.5_C3_Account for your organization’s gross global Scope 3 emissions, disclosing and explaining any exclusions. - Emissions calculation methodology\n",
        "###### C6.5_C4_Account for your organization’s gross global Scope 3 emissions, disclosing and explaining any exclusions. - Percentage of emissions calculated using data obtained from suppliers or value chain partners\n",
        "\n"
      ]
    },
    {
      "cell_type": "code",
      "execution_count": null,
      "id": "c3b55bb6",
      "metadata": {
        "id": "c3b55bb6"
      },
      "outputs": [],
      "source": [
        "# Loading in packages and the raw date\n",
        "import pandas as pd\n",
        "import numpy as np\n",
        "import matplotlib.pyplot as plt\n",
        "import seaborn as sns\n",
        "import tkinter\n",
        "\n",
        "%matplotlib inline\n",
        "\n",
        "df = pd.read_csv('C6.csv')\n",
        "\n",
        "df"
      ]
    },
    {
      "cell_type": "code",
      "execution_count": null,
      "id": "35321bc8",
      "metadata": {
        "id": "35321bc8"
      },
      "outputs": [],
      "source": [
        "# Replacing all of the \"Question not applicable with NaN\"\n",
        "df = df.replace('Question not applicable', 'NaN')\n",
        "df.head(25)"
      ]
    },
    {
      "cell_type": "code",
      "execution_count": null,
      "id": "bfb6dec5",
      "metadata": {
        "id": "bfb6dec5"
      },
      "outputs": [],
      "source": [
        "df.info()"
      ]
    },
    {
      "cell_type": "code",
      "execution_count": null,
      "id": "c4be73eb",
      "metadata": {
        "id": "c4be73eb"
      },
      "outputs": [],
      "source": [
        "#Looking at just the Purchased goods and services\n",
        "df_small = df[df.Row == 1.0]\n",
        "df_small"
      ]
    },
    {
      "cell_type": "code",
      "execution_count": null,
      "id": "7d677e09",
      "metadata": {
        "id": "7d677e09"
      },
      "outputs": [],
      "source": [
        "#data frame of just those companies that listed scope three emissions as Relavant and Calculated\n",
        "relevant_df = df_small[df_small.C6_5_C1 == \"Relevant, calculated\"]\n",
        "relevant_df.drop(['Public','Response received date', 'Response received date', 'Primary questionnaire sector', 'Row', 'RowName', 'C6_5_C1', 'C6_5_C3', 'C6_5_C5'],axis=1,inplace=True)\n",
        "\n",
        "\n",
        "\n",
        "relevant_df['C6_5_C2'] = relevant_df['C6_5_C2'].astype(float)\n",
        "relevant_df"
      ]
    },
    {
      "cell_type": "code",
      "execution_count": null,
      "id": "cfb6d1b3",
      "metadata": {
        "id": "cfb6d1b3"
      },
      "outputs": [],
      "source": [
        "#Companies that listed scope three emissions as Relevant, but have not year calculated them\n",
        "relevant_nocalc_df = df_small[df_small.C6_5_C1 == \"Relevant, not yet calculated\"]\n",
        "relevant_nocalc_df"
      ]
    },
    {
      "cell_type": "code",
      "execution_count": null,
      "id": "4079c9eb",
      "metadata": {
        "id": "4079c9eb"
      },
      "outputs": [],
      "source": [
        "# A list of all the Primary sectors\n",
        "print(df['Primary sector'].unique())\n",
        "df.nunique()"
      ]
    },
    {
      "cell_type": "code",
      "execution_count": null,
      "id": "5aff0db4",
      "metadata": {
        "id": "5aff0db4"
      },
      "outputs": [],
      "source": [
        "#Taking a look at all the IT and Software development companies\n",
        "df_sectors = relevant_df.groupby(['Primary sector'])\n",
        "df_ITSD = df_sectors.get_group('IT & software development')\n",
        "df_ITSD.head(25)"
      ]
    },
    {
      "cell_type": "code",
      "execution_count": null,
      "id": "de8573d2",
      "metadata": {
        "id": "de8573d2"
      },
      "outputs": [],
      "source": [
        "df_ITSD.describe()"
      ]
    },
    {
      "cell_type": "code",
      "execution_count": null,
      "id": "b120fb31",
      "metadata": {
        "id": "b120fb31"
      },
      "outputs": [],
      "source": [
        "#Creating a clean compy of the data, filtering it by relevant and calculated businesses, converting the emissions data to\n",
        "# a numerical value, and dropping unwanted columns\n",
        "df2 = df\n",
        "\n",
        "relevant_cal = df2[df2.C6_5_C1 == \"Relevant, calculated\"]\n",
        "\n",
        "relevant_cal['C6_5_C2'] = relevant_cal['C6_5_C2'].astype(float)\n",
        "\n",
        "relevant_cal.drop(['Public','Response received date', 'Response received date', 'Row', 'Primary questionnaire sector', 'C6_5_C1', 'C6_5_C3', 'C6_5_C5'],axis=1,inplace=True)\n",
        "relevant_cal.head(5)"
      ]
    },
    {
      "cell_type": "code",
      "execution_count": null,
      "id": "2eb5b2a9",
      "metadata": {
        "id": "2eb5b2a9"
      },
      "outputs": [],
      "source": [
        "#Pivot table to list all of the areas of impact and the emission values\n",
        "pivot_df = relevant_cal.pivot(index='Organization', columns='RowName', values = ['C6_5_C2'])\n",
        "pivot_df.head(10)"
      ]
    },
    {
      "cell_type": "code",
      "execution_count": null,
      "id": "9ab206c3",
      "metadata": {
        "id": "9ab206c3"
      },
      "outputs": [],
      "source": [
        "#replacing 'nan' with a zero value\n",
        "pivot_df = pivot_df.replace('Nan', 0)\n",
        "pivot_df.head(5)"
      ]
    },
    {
      "cell_type": "code",
      "execution_count": null,
      "id": "cd400259",
      "metadata": {
        "id": "cd400259"
      },
      "outputs": [],
      "source": [
        "#Summing emissions values\n",
        "total_scope_3 = pivot_df\n",
        "\n",
        "total_scope_3['Total Scope 3 Emissions'] = total_scope_3.sum(axis=1)\n",
        "\n",
        "total_scope_3.head(50)"
      ]
    },
    {
      "cell_type": "code",
      "execution_count": null,
      "id": "532011da",
      "metadata": {
        "id": "532011da"
      },
      "outputs": [],
      "source": [
        "total_scope_3.info()"
      ]
    },
    {
      "cell_type": "code",
      "execution_count": null,
      "id": "247dcf63",
      "metadata": {
        "id": "247dcf63"
      },
      "outputs": [],
      "source": [
        "# creating a list of all the organizations, and then limiting them to 1 copy of each\n",
        "df_organization = relevant_cal.drop_duplicates(subset=['Organization'], keep='first')\n",
        "df_organization.info()"
      ]
    },
    {
      "cell_type": "code",
      "execution_count": null,
      "id": "69a8e976",
      "metadata": {
        "id": "69a8e976"
      },
      "outputs": [],
      "source": [
        "df_organization.head(10)"
      ]
    },
    {
      "cell_type": "code",
      "execution_count": null,
      "id": "b64e7ff5",
      "metadata": {
        "id": "b64e7ff5"
      },
      "outputs": [],
      "source": [
        "combined = pd.merge(df_organization, total_scope_3 , on = 'Organization', how = 'outer')\n",
        "combined"
      ]
    },
    {
      "cell_type": "code",
      "execution_count": null,
      "id": "61f96fc5",
      "metadata": {
        "id": "61f96fc5"
      },
      "outputs": [],
      "source": [
        "total_scope_3.to_csv('scope_3_emissions.csv', header=True, index=True)"
      ]
    },
    {
      "cell_type": "markdown",
      "id": "d6ea4949",
      "metadata": {
        "id": "d6ea4949"
      },
      "source": [
        "# Week 1 Summary\n",
        "###### There are about 2100 accounts that listed \"Purchased Goods and Services as both Relevant and Caluculated\", another  1100 listed it as relevant, but not calcualted.\n",
        "###### There are 58 Unique Primary Sectors.\n",
        "###### The mean value of the IT & Software Development Emissions are 419,394 metric tons \n",
        "\n",
        "###### It might also be interesting to look at C8, which is energy usage as a percentage compared to operation cost\n",
        "\n",
        "###### C7 looks at scope 1 emmisions, there appears to be some good data in that area as well\n",
        "\n",
        "###### We could compare scope 1 and 2 emissions with scope three emissions\n",
        "\n",
        "###### We could also take a look at the increase of scope 1 emissions over a 4 year period and the number of companies now reporting that have not been\n",
        "\n",
        "###### C6.10 Row O \"Describe your gross global combined Scope 1 and 2 emissions for the reporting year in metric tons CO2e per unit currency total revenue and provide any additional intensity metrics that are appropriate to your business operations. - Metric denominator: Unit total\"\n",
        "\n",
        "###### \n",
        "\n",
        "\n",
        "### Questions for Ty\n",
        "###### 1) Are we focused on just scope three emissions? There is data for scope 1 and 2 in the data set.\n",
        "###### 2) We really need some metric to compare size of scope 3 emissions to output of goods or dollar value or something to make the number scale with the output of the business. \n",
        "###### 3) Are we wanting to compare the methadology for collection to the vailidity of the numbers? We may have enough information to do this in the data set\n",
        "\n"
      ]
    },
    {
      "cell_type": "code",
      "execution_count": null,
      "id": "e53ab900",
      "metadata": {
        "id": "e53ab900"
      },
      "outputs": [],
      "source": []
    }
  ],
  "metadata": {
    "kernelspec": {
      "display_name": "Python 3 (ipykernel)",
      "language": "python",
      "name": "python3"
    },
    "language_info": {
      "codemirror_mode": {
        "name": "ipython",
        "version": 3
      },
      "file_extension": ".py",
      "mimetype": "text/x-python",
      "name": "python",
      "nbconvert_exporter": "python",
      "pygments_lexer": "ipython3",
      "version": "3.9.12"
    },
    "colab": {
      "provenance": [],
      "include_colab_link": true
    }
  },
  "nbformat": 4,
  "nbformat_minor": 5
}